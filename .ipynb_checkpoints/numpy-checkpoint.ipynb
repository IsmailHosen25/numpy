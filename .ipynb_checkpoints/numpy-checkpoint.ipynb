{
 "cells": [
  {
   "cell_type": "code",
   "execution_count": 6,
   "id": "8610426f",
   "metadata": {},
   "outputs": [
    {
     "name": "stdout",
     "output_type": "stream",
     "text": [
      "[1 2 3]\n",
      "Number of Dimention: 1\n",
      "Array Shape: (3,)\n",
      "\n",
      "\n",
      "[[1 2 3]\n",
      " [4 5 6]]\n",
      "Number of dimention: 2\n",
      "Shape: (2, 3)\n"
     ]
    }
   ],
   "source": [
    "import numpy as np\n",
    "h1D=np.array([1,2,3])\n",
    "print(\"1st Array\")\n",
    "print(h1D)\n",
    "\n",
    "print(f\"Number of Dimention: {h1D.ndim}\")   ##Number of dimention\n",
    "\n",
    "print(f\"Array Shape: {h1D.shape}\\n\\n\")   ### array shape\n",
    "\n",
    "\n",
    "h2D=np.array([[1,2,3],[4,5,6]])\n",
    "print(\"2nd array\")\n",
    "print(h2D)\n",
    "\n",
    "print(f\"Number of dimention: {h2D.ndim}\")\n",
    "\n",
    "print(f\"Shape: {h2D.shape}\")"
   ]
  },
  {
   "cell_type": "code",
   "execution_count": null,
   "id": "38a01872",
   "metadata": {},
   "outputs": [],
   "source": []
  }
 ],
 "metadata": {
  "kernelspec": {
   "display_name": "Python 3 (ipykernel)",
   "language": "python",
   "name": "python3"
  },
  "language_info": {
   "codemirror_mode": {
    "name": "ipython",
    "version": 3
   },
   "file_extension": ".py",
   "mimetype": "text/x-python",
   "name": "python",
   "nbconvert_exporter": "python",
   "pygments_lexer": "ipython3",
   "version": "3.10.6"
  }
 },
 "nbformat": 4,
 "nbformat_minor": 5
}
