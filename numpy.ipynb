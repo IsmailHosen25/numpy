{
 "cells": [
  {
   "cell_type": "code",
   "execution_count": 19,
   "id": "8610426f",
   "metadata": {},
   "outputs": [
    {
     "name": "stdout",
     "output_type": "stream",
     "text": [
      "1st Array: \n",
      "[1 2 3]\n",
      "Number of Dimention: 1\n",
      "Array Shape: (3,)\n",
      "item size: 4\n",
      "Size: 3\n",
      "Number of bytes: 12\n",
      "Data type: int32\n",
      "\n",
      "\n",
      "2nd array: \n",
      "[[1 2 3]\n",
      " [4 5 6]]\n",
      "Number of dimention: 2\n",
      "Shape: (2, 3)\n",
      "item size: 4\n",
      "size: 6\n",
      "Number of bytes: 24\n",
      "Data type: int32 \n",
      "\n",
      "\n"
     ]
    }
   ],
   "source": [
    "import numpy as np\n",
    "h1D=np.array([1,2,3])   \n",
    "print(\"1st Array: \")\n",
    "print(h1D)\n",
    "print(f\"Number of Dimention: {h1D.ndim}\")   ##Number of dimention\n",
    "print(f\"Array Shape: {h1D.shape}\")  ### array shape\n",
    "print(f\"item size: {h1D.itemsize}\")\n",
    "print(f\"Size: {h1D.size}\")\n",
    "print(f\"Number of bytes: {h1D.nbytes}\")\n",
    "print(f\"Data type: {h1D.dtype}\\n\\n\")\n",
    "\n",
    "\n",
    "h2D=np.array([[1,2,3],[4,5,6]])  ### if want call data type ([1,2,3],[4,5,6],dtype=\"int64\")\n",
    "print(\"2nd array: \")\n",
    "print(h2D)\n",
    "print(f\"Number of dimention: {h2D.ndim}\")\n",
    "print(f\"Shape: {h2D.shape}\")\n",
    "print(f\"item size: {h2D.itemsize}\")\n",
    "print(f\"size: {h2D.size}\")\n",
    "print(f\"Number of bytes: {h2D.nbytes}\")\n",
    "print(f\"Data type: {h2D.dtype} \\n\\n\")"
   ]
  },
  {
   "cell_type": "code",
   "execution_count": 24,
   "id": "38a01872",
   "metadata": {},
   "outputs": [
    {
     "name": "stdout",
     "output_type": "stream",
     "text": [
      "[[1 2 3 9 8 7]\n",
      " [4 5 6 3 2 1]]\n",
      "specific elemants 2nd row 3rd, column 6: 6\n",
      "specific elemants 1st row last, column 7: 7\n",
      "Second row: [4 5 6 3 2 1]\n",
      "first row: [1 2 3 9 8 7]\n"
     ]
    }
   ],
   "source": [
    "# Accessing /changing specific elemants,rows,columns etc\n",
    "\n",
    "\n",
    "a=np.array([[1,2,3,9,8,7],[4,5,6,3,2,1]])\n",
    "print(a)\n",
    "print(f\"specific elemants 2nd row 3rd, column 6: {a[1,2]}\")\n",
    "print(f\"specific elemants 1st row last, column 7: {a[0,-1]}\")\n",
    "print(f\"Second row: {a[1,:]}\")\n",
    "print(f\"first row: {a[0,:]}\")"
   ]
  },
  {
   "cell_type": "code",
   "execution_count": null,
   "id": "053429c6",
   "metadata": {},
   "outputs": [],
   "source": []
  }
 ],
 "metadata": {
  "kernelspec": {
   "display_name": "Python 3 (ipykernel)",
   "language": "python",
   "name": "python3"
  },
  "language_info": {
   "codemirror_mode": {
    "name": "ipython",
    "version": 3
   },
   "file_extension": ".py",
   "mimetype": "text/x-python",
   "name": "python",
   "nbconvert_exporter": "python",
   "pygments_lexer": "ipython3",
   "version": "3.10.6"
  }
 },
 "nbformat": 4,
 "nbformat_minor": 5
}
