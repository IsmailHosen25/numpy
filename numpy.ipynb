{
 "cells": [
  {
   "cell_type": "code",
   "execution_count": 19,
   "id": "8610426f",
   "metadata": {},
   "outputs": [
    {
     "name": "stdout",
     "output_type": "stream",
     "text": [
      "1st Array: \n",
      "[1 2 3]\n",
      "Number of Dimention: 1\n",
      "Array Shape: (3,)\n",
      "item size: 4\n",
      "Size: 3\n",
      "Number of bytes: 12\n",
      "Data type: int32\n",
      "\n",
      "\n",
      "2nd array: \n",
      "[[1 2 3]\n",
      " [4 5 6]]\n",
      "Number of dimention: 2\n",
      "Shape: (2, 3)\n",
      "item size: 4\n",
      "size: 6\n",
      "Number of bytes: 24\n",
      "Data type: int32 \n",
      "\n",
      "\n"
     ]
    }
   ],
   "source": [
    "import numpy as np\n",
    "h1D=np.array([1,2,3])   \n",
    "print(\"1st Array: \")\n",
    "print(h1D)\n",
    "print(f\"Number of Dimention: {h1D.ndim}\")   ##Number of dimention\n",
    "print(f\"Array Shape: {h1D.shape}\")  ### array shape\n",
    "print(f\"item size: {h1D.itemsize}\")\n",
    "print(f\"Size: {h1D.size}\")\n",
    "print(f\"Number of bytes: {h1D.nbytes}\")\n",
    "print(f\"Data type: {h1D.dtype}\\n\\n\")\n",
    "\n",
    "\n",
    "h2D=np.array([[1,2,3],[4,5,6]])  ### if want call data type ([1,2,3],[4,5,6],dtype=\"int64\")\n",
    "print(\"2nd array: \")\n",
    "print(h2D)\n",
    "print(f\"Number of dimention: {h2D.ndim}\")\n",
    "print(f\"Shape: {h2D.shape}\")\n",
    "print(f\"item size: {h2D.itemsize}\")\n",
    "print(f\"size: {h2D.size}\")\n",
    "print(f\"Number of bytes: {h2D.nbytes}\")\n",
    "print(f\"Data type: {h2D.dtype} \\n\\n\")"
   ]
  },
  {
   "cell_type": "code",
   "execution_count": 49,
   "id": "38a01872",
   "metadata": {},
   "outputs": [
    {
     "name": "stdout",
     "output_type": "stream",
     "text": [
      "[[1 2 3 9 8 7]\n",
      " [4 5 6 3 2 1]]\n",
      "specific elemants 2nd row 3rd, column 6: 6\n",
      "specific elemants 1st row last, column 7: 7\n",
      "Second row: [4 5 6 3 2 1]\n",
      "first row: [1 2 3 9 8 7]\n",
      "3rd column: [3 6]\n",
      "5th column:  [8 2] \n",
      "\n",
      "\n",
      "[4 6 2]\n",
      "[2 8] \n",
      "\n",
      "\n",
      "[[1 2 3 9 8 7]\n",
      " [4 5 6 3 2 9]]\n",
      "[[1 2 3 6 8 7]\n",
      " [4 5 6 3 2 9]]\n",
      "[[1 2 3 6 8 7]\n",
      " [8 5 6 3 2 9]]\n",
      "[[1 2 3 6 4 7]\n",
      " [8 5 6 3 2 9]]\n",
      "[[1 2 3 6 3 7]\n",
      " [8 5 6 3 7 9]] \n",
      "\n",
      "\n",
      "[[[1 2]\n",
      "  [3 4]]\n",
      "\n",
      " [[5 6]\n",
      "  [9 3]]] \n",
      "\n",
      "\n",
      "first row in 2nd row, 2nd colum -- 4:  4\n",
      "secnd row in 1st row , 1st column---5: 5 \n",
      "\n",
      "\n",
      "[[3 4]\n",
      " [9 3]] \n",
      "\n",
      "\n",
      "[[1 2]\n",
      " [5 6]] \n",
      "\n",
      "\n",
      "[[[1 2]\n",
      "  [7 4]]\n",
      "\n",
      " [[5 6]\n",
      "  [9 3]]]\n"
     ]
    }
   ],
   "source": [
    "# Accessing /changing specific elemants,rows,columns etc\n",
    "\n",
    "\n",
    "a=np.array([[1,2,3,9,8,7],[4,5,6,3,2,1]])\n",
    "print(a)\n",
    "print(f\"specific elemants 2nd row 3rd, column 6: {a[1,2]}\")\n",
    "print(f\"specific elemants 1st row last, column 7: {a[0,-1]}\")\n",
    "print(f\"Second row: {a[1,:]}\")\n",
    "print(f\"first row: {a[0,:]}\")\n",
    "print(\"3rd column:\",a[:,2])\n",
    "print(\"5th column: \",a[:,4],\"\\n\\n\")\n",
    "\n",
    "\n",
    "## getting little more fancy [startindex:endindex:stepsize]\n",
    "print(a[1,0:-1:2])\n",
    "print(a[0,1:-1:3],'\\n\\n')\n",
    "\n",
    "\n",
    "### changing elemants\n",
    "a[1,-1]=9\n",
    "print(a)\n",
    "a[0,-3]=6\n",
    "print(a)\n",
    "a[1,0]=8\n",
    "print(a)\n",
    "a[0,4]=4\n",
    "print(a)\n",
    "\n",
    "a[:,4]=[3,7]\n",
    "print(a, \"\\n\\n\")\n",
    "\n",
    "\n",
    "####3D array\n",
    "\n",
    "b=np.array([[[1,2],[3,4]],[[5,6],[9,3]]])\n",
    "print(b,'\\n\\n')\n",
    "print(\"first row in 2nd row, 2nd colum -- 4: \",b[0,1,1])\n",
    "print(f\"secnd row in 1st row , 1st column---5: {b[1,0,0]} \\n\\n\")\n",
    "\n",
    "print(b[:,1,:],'\\n\\n')\n",
    "print(b[:,0,:],'\\n\\n')\n",
    "b[0,1,0]=7\n",
    "print(b)"
   ]
  },
  {
   "cell_type": "code",
   "execution_count": 60,
   "id": "7699b19b",
   "metadata": {},
   "outputs": [
    {
     "name": "stdout",
     "output_type": "stream",
     "text": [
      "[0. 0. 0. 0. 0.] \n",
      "\n",
      "\n",
      "[[0. 0. 0.]\n",
      " [0. 0. 0.]] \n",
      "\n",
      "\n",
      "[[[0. 0. 0. 0.]\n",
      "  [0. 0. 0. 0.]\n",
      "  [0. 0. 0. 0.]]\n",
      "\n",
      " [[0. 0. 0. 0.]\n",
      "  [0. 0. 0. 0.]\n",
      "  [0. 0. 0. 0.]]] \n",
      "\n",
      "\n",
      "[[[[0 0]\n",
      "   [0 0]\n",
      "   [0 0]\n",
      "   [0 0]]\n",
      "\n",
      "  [[0 0]\n",
      "   [0 0]\n",
      "   [0 0]\n",
      "   [0 0]]\n",
      "\n",
      "  [[0 0]\n",
      "   [0 0]\n",
      "   [0 0]\n",
      "   [0 0]]]\n",
      "\n",
      "\n",
      " [[[0 0]\n",
      "   [0 0]\n",
      "   [0 0]\n",
      "   [0 0]]\n",
      "\n",
      "  [[0 0]\n",
      "   [0 0]\n",
      "   [0 0]\n",
      "   [0 0]]\n",
      "\n",
      "  [[0 0]\n",
      "   [0 0]\n",
      "   [0 0]\n",
      "   [0 0]]]] \n",
      "\n",
      "\n",
      "[[[1 1 1 1]\n",
      "  [1 1 1 1]\n",
      "  [1 1 1 1]]\n",
      "\n",
      " [[1 1 1 1]\n",
      "  [1 1 1 1]\n",
      "  [1 1 1 1]]] \n",
      "\n",
      "\n",
      "[[47 47 47]\n",
      " [47 47 47]]\n"
     ]
    }
   ],
   "source": [
    "###initializing different types of arrays\n",
    "\n",
    "h=np.zeros(5)\n",
    "print(h,'\\n\\n')\n",
    "m=np.zeros((2,3))\n",
    "print(m,'\\n\\n')\n",
    "m=np.zeros((2,3,4))\n",
    "print(m,'\\n\\n')\n",
    "m=np.zeros((2,3,4,2),dtype=\"int32\")\n",
    "print(m,'\\n\\n')\n",
    "\n",
    "m=np.ones((2,3,4),dtype=\"int32\")\n",
    "print(m,'\\n\\n')\n",
    "\n",
    "m=np.full((2,3),47)\n",
    "print(m)"
   ]
  },
  {
   "cell_type": "code",
   "execution_count": 69,
   "id": "8778d565",
   "metadata": {},
   "outputs": [
    {
     "name": "stdout",
     "output_type": "stream",
     "text": [
      "[[10 10 10]\n",
      " [10 10 10]\n",
      " [10 10 10]] \n",
      "\n",
      "\n",
      "[[7 7 7]\n",
      " [7 7 7]\n",
      " [7 7 7]]\n",
      "[[0.4981551  0.57437938 0.91775151 0.10941186]\n",
      " [0.48501827 0.50738101 0.44414776 0.85204236]\n",
      " [0.4856148  0.03118808 0.40538152 0.39108932]\n",
      " [0.89093264 0.30302338 0.76975769 0.43881442]]\n",
      "[[5 2 3]\n",
      " [5 2 2]\n",
      " [5 6 2]]\n"
     ]
    }
   ],
   "source": [
    "m=np.full_like(m,10)\n",
    "print(m,'\\n\\n')\n",
    "m=np.full(m.shape,7)\n",
    "print(m)\n",
    "\n",
    "m=np.random.rand(4,4)\n",
    "print(m)\n",
    "\n",
    "m=np.random.randint(2,7,size=(3,3))\n",
    "print(m)"
   ]
  },
  {
   "cell_type": "code",
   "execution_count": 70,
   "id": "3a369e53",
   "metadata": {},
   "outputs": [
    {
     "data": {
      "text/plain": [
       "array([[1., 0., 0., 0., 0.],\n",
       "       [0., 1., 0., 0., 0.],\n",
       "       [0., 0., 1., 0., 0.],\n",
       "       [0., 0., 0., 1., 0.],\n",
       "       [0., 0., 0., 0., 1.]])"
      ]
     },
     "execution_count": 70,
     "metadata": {},
     "output_type": "execute_result"
    }
   ],
   "source": [
    "np.identity(5)"
   ]
  },
  {
   "cell_type": "code",
   "execution_count": 73,
   "id": "53c0f759",
   "metadata": {},
   "outputs": [
    {
     "name": "stdout",
     "output_type": "stream",
     "text": [
      "[[1 2 3]\n",
      " [1 2 3]\n",
      " [1 2 3]]\n"
     ]
    }
   ],
   "source": [
    "arr=np.array([[1,2,3]])\n",
    "r=np.repeat(arr,3,axis=0)\n",
    "print(r)"
   ]
  },
  {
   "cell_type": "code",
   "execution_count": 78,
   "id": "b8f6fa91",
   "metadata": {},
   "outputs": [
    {
     "name": "stdout",
     "output_type": "stream",
     "text": [
      "this is a:  [1 2 9]\n",
      "[1 2 9]\n",
      "this is b:  [1 5 9]\n",
      "This is a:  [1 2 9]\n"
     ]
    }
   ],
   "source": [
    "a=np.array([1,2,3])\n",
    "b=a\n",
    "b[2]=9\n",
    "print(\"this is a: \",a)\n",
    "b=a.copy()\n",
    "print(b)\n",
    "b[1]=5\n",
    "print(\"this is b: \",b)\n",
    "print(\"This is a: \",a)"
   ]
  },
  {
   "cell_type": "code",
   "execution_count": null,
   "id": "593240aa",
   "metadata": {},
   "outputs": [],
   "source": []
  }
 ],
 "metadata": {
  "kernelspec": {
   "display_name": "Python 3 (ipykernel)",
   "language": "python",
   "name": "python3"
  },
  "language_info": {
   "codemirror_mode": {
    "name": "ipython",
    "version": 3
   },
   "file_extension": ".py",
   "mimetype": "text/x-python",
   "name": "python",
   "nbconvert_exporter": "python",
   "pygments_lexer": "ipython3",
   "version": "3.10.6"
  }
 },
 "nbformat": 4,
 "nbformat_minor": 5
}
